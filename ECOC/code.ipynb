{
 "cells": [
  {
   "cell_type": "code",
   "execution_count": 67,
   "metadata": {},
   "outputs": [
    {
     "name": "stdout",
     "output_type": "stream",
     "text": [
      "0 [0. 1. 0. 1. 1. 1. 1. 1. 1. 0. 0. 0. 0. 1. 0. 0. 0.]\n",
      "1 [1. 1. 1. 0. 0. 0. 1. 1. 0. 0. 1. 0. 1. 0. 0. 0. 1.]\n",
      "2 [0. 1. 0. 0. 1. 0. 1. 0. 1. 0. 0. 1. 0. 0. 1. 1. 1.]\n",
      "3 [0. 1. 1. 1. 0. 1. 0. 1. 1. 1. 0. 0. 0. 0. 0. 1. 0.]\n",
      "4 [1. 0. 1. 1. 1. 0. 1. 1. 1. 0. 1. 0. 0. 0. 0. 0. 0.]\n",
      "5 [0. 1. 0. 1. 0. 0. 0. 0. 0. 1. 1. 1. 0. 1. 1. 0. 1.]\n",
      "6 [0. 0. 1. 1. 0. 0. 0. 1. 0. 1. 1. 0. 1. 0. 0. 1. 1.]\n",
      "7 [0. 0. 0. 0. 1. 1. 1. 0. 0. 0. 1. 1. 0. 1. 1. 0. 1.]\n",
      "8 [0. 1. 0. 0. 1. 0. 0. 1. 1. 0. 0. 1. 0. 1. 0. 1. 1.]\n",
      "9 [1. 0. 1. 0. 0. 1. 0. 1. 1. 0. 1. 0. 1. 0. 0. 0. 1.]\n"
     ]
    }
   ],
   "source": [
    "import numpy as np\n",
    "hd = 8\n",
    "num_classes = 10\n",
    "count, code_set = 0, []\n",
    "for n in range(100):\n",
    "    # Choose one by one 贪婪法\n",
    "    is_found = False\n",
    "    n = 0\n",
    "    for n in range(10000):\n",
    "        c = np.random.choice(17,8,replace=False)\n",
    "        # Validation\n",
    "        is_valid = True\n",
    "        for c2 in code_set:\n",
    "            hd = len(set(c)^set(c2))\n",
    "            if hd <6 or hd > 14:\n",
    "                is_valid = False\n",
    "                break\n",
    "        if is_valid:\n",
    "            # Appending\n",
    "            a = np.zeros(17)\n",
    "            a[c]=1\n",
    "            code_set.append(a)\n",
    "            count += 1\n",
    "            if count == num_classes:\n",
    "                is_found = True\n",
    "                break\n",
    "        n+=1\n",
    "    if is_found:\n",
    "        break\n",
    "\n",
    "if not is_found:\n",
    "    print('Failed finding all codes.')\n",
    "for i, c in enumerate(code_set):\n",
    "    print(i,c)"
   ]
  }
 ],
 "metadata": {
  "kernelspec": {
   "display_name": "Python 3",
   "language": "python",
   "name": "python3"
  }
 },
 "nbformat": 4,
 "nbformat_minor": 4
}
