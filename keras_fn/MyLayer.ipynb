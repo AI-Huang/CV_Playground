{
 "metadata": {
  "language_info": {
   "codemirror_mode": {
    "name": "ipython",
    "version": 3
   },
   "file_extension": ".py",
   "mimetype": "text/x-python",
   "name": "python",
   "nbconvert_exporter": "python",
   "pygments_lexer": "ipython3",
   "version": 3
  },
  "orig_nbformat": 2,
  "kernelspec": {
   "name": "python_defaultSpec_1595523351320",
   "display_name": "Python 3.7.7 64-bit ('tf2': conda)"
  }
 },
 "nbformat": 4,
 "nbformat_minor": 2,
 "cells": [
  {
   "cell_type": "code",
   "execution_count": 20,
   "metadata": {},
   "outputs": [],
   "source": [
    "#!/usr/bin/env python3\n",
    "# -*- coding: utf-8 -*-\n",
    "# @Date    : Jul-23-20 22:48\n",
    "# @Author  : Kelly Hwong (you@example.org)\n",
    "# @RefLink : https://zhuanlan.zhihu.com/p/65668632\n",
    "\n",
    "import os\n",
    "import pickle\n",
    "import numpy as np\n",
    "import tensorflow as tf  # tensorflow >= 2.1\n",
    "from tensorflow.keras.optimizers import Adam\n",
    "from tensorflow.keras.callbacks import EarlyStopping, LearningRateScheduler, ModelCheckpoint, ReduceLROnPlateau, CSVLogger\n",
    "from tensorflow.keras.layers import Layer, Dense\n",
    "from tensorflow.keras.metrics import Accuracy\n",
    "from tensorflow.keras.losses import SparseCategoricalCrossentropy\n",
    "from tensorflow.keras.models import Model"
   ]
  },
  {
   "cell_type": "markdown",
   "metadata": {},
   "source": [
    "## Create a model with Sequential"
   ]
  },
  {
   "cell_type": "code",
   "execution_count": 21,
   "metadata": {},
   "outputs": [],
   "source": [
    "# create a 2-layer FC model\n",
    "model = tf.keras.models.Sequential([\n",
    "    tf.keras.layers.Flatten(input_shape=(28, 28)),\n",
    "    tf.keras.layers.Dense(128, activation='relu'),\n",
    "    tf.keras.layers.Dropout(0.2),\n",
    "    tf.keras.layers.Dense(10, activation='softmax')\n",
    "])"
   ]
  },
  {
   "cell_type": "markdown",
   "metadata": {},
   "source": [
    "## train with mnist"
   ]
  },
  {
   "cell_type": "code",
   "execution_count": 22,
   "metadata": {
    "tags": []
   },
   "outputs": [
    {
     "output_type": "stream",
     "name": "stdout",
     "text": "Tensorflow version:  2.1.0\nTrain on 60000 samples\n59776/60000 [============================>.] - ETA: 0s - loss: 0.2971 - accuracy: 0.9132\nEpoch 00001: saving model to D:\\DeepLearningData\\mnist\\ckpts-MyModel/MyModel-epoch-001-accuracy-0.9133.h5\nWARNING:tensorflow:Reduce LR on plateau conditioned on metric `val_loss` which is not available. Available metrics are: loss,accuracy,lr\n60000/60000 [==============================] - 7s 118us/sample - loss: 0.2967 - accuracy: 0.9133\n10000/10000 - 1s - loss: 0.1418 - accuracy: 0.9579\n"
    },
    {
     "output_type": "execute_result",
     "data": {
      "text/plain": "[0.14175016087442638, 0.9579]"
     },
     "metadata": {},
     "execution_count": 22
    }
   ],
   "source": [
    "MODEL_TYPE = \"MyModel\"\n",
    "epochs = 1\n",
    "ROOT_PATH = \"D:\\\\DeepLearningData\\\\mnist\"\n",
    "SAVES_DIR = os.path.join(ROOT_PATH, \"ckpts-%s/\" % MODEL_TYPE)\n",
    "\n",
    "METRICS = ['accuracy']\n",
    "\n",
    "print(\"Tensorflow version: \", tf.__version__)\n",
    "# Load data\n",
    "num_classes = 10\n",
    "mnist = tf.keras.datasets.mnist\n",
    "(X_train, y_train), (X_test, y_test) = mnist.load_data(\n",
    "    path=os.path.join(\"D:\\\\DeepLearningData\\\\datasets\", \"mnist.npz\"))\n",
    "X_train, X_test = X_train / 255.0, X_test / 255.0\n",
    "\n",
    "# y_train = tf.one_hot(y_train, num_classes)\n",
    "# y_test = tf.one_hot(y_test, num_classes)\n",
    "\n",
    "ckpt_name = \"%s-epoch-{epoch:03d}-accuracy-{accuracy:.4f}.h5\" % MODEL_TYPE\n",
    "filepath = os.path.join(SAVES_DIR, ckpt_name)\n",
    "# Prepare callbacks for model saving and for learning rate adjustment.\n",
    "checkpoint = ModelCheckpoint(\n",
    "    filepath=filepath, monitor=\"accuracy\", verbose=1)\n",
    "csv_logger = CSVLogger(\"./log/training.log.csv\", append=True)\n",
    "earlystop = EarlyStopping(patience=10)\n",
    "lr_reducer = ReduceLROnPlateau(factor=np.sqrt(0.1),\n",
    "                                cooldown=0,\n",
    "                                patience=5,\n",
    "                                min_lr=0.5e-6)\n",
    "callbacks = [checkpoint, csv_logger, lr_reducer]\n",
    "\n",
    "with tf.device('/device:GPU:0'):\n",
    "    # build a 2-layer FC model\n",
    "    model = tf.keras.models.Sequential([\n",
    "        tf.keras.layers.Flatten(input_shape=(28, 28)),\n",
    "        tf.keras.layers.Dense(128, activation='relu'),\n",
    "        tf.keras.layers.Dropout(0.2),\n",
    "        tf.keras.layers.Dense(10, activation='softmax')\n",
    "    ])\n",
    "    # model = Model(inputs=inputs, outputs=outputs)\n",
    "\n",
    "    model.compile(optimizer=Adam(learning_rate=1e-3),\n",
    "                    loss=SparseCategoricalCrossentropy(),\n",
    "                    metrics=METRICS)\n",
    "\n",
    "    history = model.fit(\n",
    "        X_train,\n",
    "        y_train,\n",
    "        batch_size=32,\n",
    "        epochs=epochs,\n",
    "        callbacks=callbacks\n",
    "    )\n",
    "\n",
    "model.evaluate(X_test,  y_test, verbose=2)\n"
   ]
  },
  {
   "cell_type": "markdown",
   "metadata": {},
   "source": [
    "## Load ckpt"
   ]
  },
  {
   "cell_type": "code",
   "execution_count": 23,
   "metadata": {},
   "outputs": [],
   "source": [
    "ckpt_name = \"MyModel-epoch-001-accuracy-0.9145.h5\"\n",
    "ckpt_path = os.path.join(SAVES_DIR, ckpt_name)\n",
    "model.load_weights(ckpt_path)"
   ]
  },
  {
   "cell_type": "markdown",
   "metadata": {},
   "source": [
    "## Create a customized layer"
   ]
  },
  {
   "cell_type": "code",
   "execution_count": 24,
   "metadata": {},
   "outputs": [],
   "source": [
    "class MyLayer(Layer):\n",
    "    def __init__(self, dense_dim, **kwargs):\n",
    "        super(MyLayer, self).__init__(**kwargs)\n",
    "        self.dense_dim = dense_dim\n",
    "\n",
    "    def build(self, input_shape):\n",
    "        # Create a trainable weight variable for this layer.\n",
    "        self.dense = self.add_weight(\"attn_vec\", shape=[\n",
    "                                     input_shape[1], self.dense_dim], initializer='uniform', trainable=True)\n",
    "        super(MyLayer, self).build(input_shape)\n",
    "\n",
    "    def get_config(self):\n",
    "        config = {'dense_dim': self.dense_dim}\n",
    "        base_config = super(MyLayer, self).get_config()\n",
    "        return dict(list(base_config.items()) + list(config.items()))\n",
    "\n",
    "    def call(self, input):\n",
    "        # matrix multiply\n",
    "        return tf.matmul(input, self.dense)"
   ]
  },
  {
   "cell_type": "code",
   "execution_count": 26,
   "metadata": {
    "tags": []
   },
   "outputs": [
    {
     "output_type": "stream",
     "name": "stdout",
     "text": "Model: \"model_1\"\n_________________________________________________________________\nLayer (type)                 Output Shape              Param #   \n=================================================================\ninput_6 (InputLayer)         [(None, 100)]             0         \n_________________________________________________________________\nmy_layer_5 (MyLayer)         (None, 10)                1000      \n_________________________________________________________________\ndense_11 (Dense)             (None, 1)                 11        \n=================================================================\nTotal params: 1,011\nTrainable params: 1,011\nNon-trainable params: 0\n_________________________________________________________________\n"
    }
   ],
   "source": [
    "inputs = tf.keras.Input(shape=(100,))\n",
    "vecs = MyLayer(10)(inputs)\n",
    "outputs = Dense(1, activation=tf.nn.sigmoid)(vecs)\n",
    "model = Model(inputs=inputs, outputs=outputs)\n",
    "\n",
    "model.compile(optimizer=Adam(),\n",
    "              loss='binary_crossentropy',\n",
    "              metrics=['accuracy'])\n",
    "model.summary()\n",
    "model.save('./ckpt/test.h5')"
   ]
  },
  {
   "cell_type": "code",
   "execution_count": 28,
   "metadata": {},
   "outputs": [],
   "source": [
    "model = tf.keras.models.load_model(\"./ckpt/test.h5\", custom_objects={'MyLayer': MyLayer})"
   ]
  },
  {
   "cell_type": "code",
   "execution_count": null,
   "metadata": {},
   "outputs": [],
   "source": []
  }
 ]
}