{
 "cells": [
  {
   "cell_type": "code",
   "execution_count": 8,
   "metadata": {
    "tags": []
   },
   "outputs": [],
   "source": [
    "import json\n",
    "from torchvision import datasets, transforms\n",
    "from pytorch_mnist.utils import makedir_exist_ok\n",
    "from LeNet5_ECOC_train import train"
   ]
  },
  {
   "cell_type": "code",
   "execution_count": 9,
   "metadata": {
    "tags": []
   },
   "outputs": [
    {
     "output_type": "stream",
     "name": "stdout",
     "text": "Loading config...\nStep 1: Preparing data...\nStep 2: Training config...\nStep 3: Training phase...\nTrain epoch: 0, [0/60000 (0.00%)].\tLoss: 336.570374\nTrain epoch: 0, [6400/60000 (10.67%)].\tLoss: 265.054871\nTrain epoch: 0, [12800/60000 (21.33%)].\tLoss: 238.433380\nTrain epoch: 0, [19200/60000 (32.00%)].\tLoss: 224.294830\nTrain epoch: 0, [25600/60000 (42.67%)].\tLoss: 224.263916\nTrain epoch: 0, [32000/60000 (53.33%)].\tLoss: 220.689575\nTrain epoch: 0, [38400/60000 (64.00%)].\tLoss: 221.051849\nTrain epoch: 0, [44800/60000 (74.67%)].\tLoss: 226.620346\nTrain epoch: 0, [51200/60000 (85.33%)].\tLoss: 221.352066\nTrain epoch: 0, [57600/60000 (96.00%)].\tLoss: 215.575577\nModel saved to D:\\DeepLearningData\\mnist_playground\\models\\test.pth.\n"
    }
   ],
   "source": [
    "print(\"Loading config...\")\n",
    "with open('./config.json', 'r') as f:\n",
    "    CONFIG = json.load(f)\n",
    "DATASETS_DIR = CONFIG[\"DATASETS_DIR\"]\n",
    "MODEL_DIR = CONFIG[\"MODEL_DIR\"]\n",
    "makedir_exist_ok(MODEL_DIR)\n",
    "\n",
    "print(\"Step 1: Preparing data...\")\n",
    "data_transforms = {\n",
    "    'train': transforms.Compose([\n",
    "        transforms.ToTensor()\n",
    "    ]),\n",
    "    'val': transforms.Compose([\n",
    "        transforms.ToTensor()\n",
    "    ]),\n",
    "}\n",
    "transform = transforms.Compose([\n",
    "    transforms.ToTensor()\n",
    "])\n",
    "\n",
    "data_train_no_transform = datasets.MNIST(\n",
    "    root=DATASETS_DIR, train=True, download=True)\n",
    "data_train = datasets.MNIST(\n",
    "    root=DATASETS_DIR, train=True, transform=transform, download=True)\n",
    "data_test = datasets.MNIST(\n",
    "    root=DATASETS_DIR, train=False, transform=transform, download=True)\n",
    "\n",
    "train(data_train)\n",
    "# test(data_test)\n"
   ]
  },
  {
   "cell_type": "code",
   "execution_count": null,
   "metadata": {},
   "outputs": [],
   "source": []
  }
 ],
 "metadata": {
  "kernelspec": {
   "display_name": "Python 3",
   "language": "python",
   "name": "python3"
  },
  "language_info": {
   "codemirror_mode": {
    "name": "ipython",
    "version": 3
   },
   "file_extension": ".py",
   "mimetype": "text/x-python",
   "name": "python",
   "nbconvert_exporter": "python",
   "pygments_lexer": "ipython3",
   "version": "3.7.6-final"
  }
 },
 "nbformat": 4,
 "nbformat_minor": 2
}