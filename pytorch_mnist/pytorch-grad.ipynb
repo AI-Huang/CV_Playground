{
 "cells": [
  {
   "cell_type": "code",
   "execution_count": 14,
   "metadata": {},
   "outputs": [],
   "source": [
    "import torch\n",
    "import torch.nn as nn\n",
    "from model import Net"
   ]
  },
  {
   "cell_type": "code",
   "execution_count": 9,
   "metadata": {},
   "outputs": [
    {
     "name": "stdout",
     "output_type": "stream",
     "text": [
      "Net(\n",
      "  (conv1): Conv2d(1, 6, kernel_size=(3, 3), stride=(1, 1))\n",
      "  (conv2): Conv2d(6, 16, kernel_size=(3, 3), stride=(1, 1))\n",
      "  (fc1): Linear(in_features=576, out_features=120, bias=True)\n",
      "  (fc2): Linear(in_features=120, out_features=84, bias=True)\n",
      "  (fc3): Linear(in_features=84, out_features=10, bias=True)\n",
      ")\n"
     ]
    }
   ],
   "source": [
    "net = Net()\n",
    "print(net)"
   ]
  },
  {
   "cell_type": "code",
   "execution_count": 10,
   "metadata": {},
   "outputs": [
    {
     "name": "stdout",
     "output_type": "stream",
     "text": [
      "10\n",
      "torch.Size([6, 1, 3, 3])\n"
     ]
    }
   ],
   "source": [
    "params = list(net.parameters())\n",
    "print(len(params))\n",
    "print(params[0].size())  # conv1's .weight"
   ]
  },
  {
   "cell_type": "code",
   "execution_count": 11,
   "metadata": {},
   "outputs": [
    {
     "name": "stdout",
     "output_type": "stream",
     "text": [
      "tensor([[[[-8.3821e-01, -8.1556e-01,  1.0019e-04,  ..., -5.2432e-01,\n",
      "           -1.0921e+00,  1.0131e+00],\n",
      "          [-1.2070e+00,  9.8689e-01, -4.8724e-01,  ..., -1.2867e+00,\n",
      "            7.6329e-01, -1.4137e+00],\n",
      "          [-6.3035e-01,  1.6757e+00,  1.3561e+00,  ..., -1.5670e+00,\n",
      "            1.2329e+00,  4.6873e-01],\n",
      "          ...,\n",
      "          [ 1.7299e+00,  1.5903e-01,  7.1665e-01,  ..., -1.0144e+00,\n",
      "           -1.7354e-01,  6.2239e-01],\n",
      "          [ 1.3023e+00, -3.0101e-01,  5.7735e-02,  ...,  6.7889e-01,\n",
      "           -3.9675e-01,  1.4835e+00],\n",
      "          [-8.8434e-01,  9.4361e-01,  5.3870e-01,  ...,  6.3357e-01,\n",
      "           -1.7556e+00, -1.8711e-01]]]])\n",
      "tensor([[-0.0897, -0.1015,  0.0028,  0.0243, -0.0007,  0.0753,  0.0364, -0.0608,\n",
      "          0.0200,  0.1342]], grad_fn=<AddmmBackward>)\n"
     ]
    }
   ],
   "source": [
    "input = torch.randn(1, 1, 32, 32) # B, C, H, W\n",
    "print(input)\n",
    "out = net(input)\n",
    "print(out)"
   ]
  },
  {
   "cell_type": "code",
   "execution_count": 12,
   "metadata": {},
   "outputs": [],
   "source": [
    "# Zero the gradient buffers of all parameters and backprops with random gradients\n",
    "net.zero_grad()\n",
    "out.backward(torch.randn(1, 10))"
   ]
  },
  {
   "cell_type": "code",
   "execution_count": 15,
   "metadata": {},
   "outputs": [
    {
     "name": "stdout",
     "output_type": "stream",
     "text": [
      "tensor([[[[ 2.7878,  0.3462, -0.7569,  ...,  2.5178,  0.6197, -0.7230],\n",
      "          [-0.3929, -0.0565,  2.1803,  ..., -0.1362,  1.4708,  0.5572],\n",
      "          [ 0.0145,  1.3111, -0.6597,  ..., -0.2026, -0.0397,  0.5164],\n",
      "          ...,\n",
      "          [ 1.6938,  0.5123, -1.3229,  ...,  0.6201,  2.1661,  0.0901],\n",
      "          [ 0.8073, -1.2730,  0.8813,  ...,  0.3938,  0.4871, -1.0443],\n",
      "          [ 1.1810,  0.5785, -1.4296,  ..., -1.0398,  0.0143,  1.5348]]]])\n",
      "tensor(1.1315, grad_fn=<MseLossBackward>)\n"
     ]
    }
   ],
   "source": [
    "input = torch.randn(1, 1, 32, 32) # B, C, H, W\n",
    "print(input)\n",
    "output = net(input)\n",
    "target = torch.randn(10)  # a dummy target, for example\n",
    "target = target.view(1, -1)  # make it the same shape as output\n",
    "\n",
    "criterion = nn.MSELoss()\n",
    "loss = criterion(output, target)\n",
    "print(loss)"
   ]
  },
  {
   "cell_type": "code",
   "execution_count": 16,
   "metadata": {},
   "outputs": [
    {
     "name": "stdout",
     "output_type": "stream",
     "text": [
      "<MseLossBackward object at 0x00000275F798A1C8>\n",
      "<AddmmBackward object at 0x00000275F798A108>\n",
      "<AccumulateGrad object at 0x00000275F798A1C8>\n"
     ]
    }
   ],
   "source": [
    "print(loss.grad_fn)  # MSELoss\n",
    "print(loss.grad_fn.next_functions[0][0])  # Linear\n",
    "print(loss.grad_fn.next_functions[0][0].next_functions[0][0])  # ReLU"
   ]
  },
  {
   "cell_type": "code",
   "execution_count": 17,
   "metadata": {},
   "outputs": [
    {
     "name": "stdout",
     "output_type": "stream",
     "text": [
      "conv1.bias.grad before backward\n",
      "tensor([0., 0., 0., 0., 0., 0.])\n",
      "conv1.bias.grad after backward\n",
      "tensor([-0.0060, -0.0048,  0.0043,  0.0019, -0.0191, -0.0124])\n"
     ]
    }
   ],
   "source": [
    "net.zero_grad()     # zeroes the gradient buffers of all parameters\n",
    "\n",
    "print('conv1.bias.grad before backward')\n",
    "print(net.conv1.bias.grad)\n",
    "\n",
    "loss.backward() # 这样就能改变网络的权重\n",
    "\n",
    "print('conv1.bias.grad after backward')\n",
    "print(net.conv1.bias.grad)"
   ]
  },
  {
   "cell_type": "markdown",
   "metadata": {},
   "source": [
    "PyTorch是通过optim模块更新权重（即学习）"
   ]
  },
  {
   "cell_type": "code",
   "execution_count": 26,
   "metadata": {},
   "outputs": [
    {
     "name": "stdout",
     "output_type": "stream",
     "text": [
      "conv1.bias.grad after optimization\n",
      "tensor([-0.0295, -0.0017, -0.0052, -0.0169, -0.0210, -0.0188])\n"
     ]
    }
   ],
   "source": [
    "import torch.optim as optim\n",
    "\n",
    "# create your optimizer\n",
    "optimizer = optim.SGD(net.parameters(), lr=0.01) # 这里 optimizer 接受了网络 net对象 作为输入参数\n",
    "\n",
    "# in your training loop:\n",
    "optimizer.zero_grad()   # zero the gradient buffers\n",
    "output = net(input)\n",
    "loss = criterion(output, target)\n",
    "loss.backward()\n",
    "optimizer.step()    # Does the update\n",
    "\n",
    "print('conv1.bias.grad after optimization')\n",
    "print(net.conv1.bias.grad)"
   ]
  },
  {
   "cell_type": "code",
   "execution_count": null,
   "metadata": {},
   "outputs": [],
   "source": []
  }
 ],
 "metadata": {
  "kernelspec": {
   "display_name": "Python 3",
   "language": "python",
   "name": "python3"
  },
  "language_info": {
   "codemirror_mode": {
    "name": "ipython",
    "version": 3
   },
   "file_extension": ".py",
   "mimetype": "text/x-python",
   "name": "python",
   "nbconvert_exporter": "python",
   "pygments_lexer": "ipython3",
   "version": "3.7.6"
  }
 },
 "nbformat": 4,
 "nbformat_minor": 4
}